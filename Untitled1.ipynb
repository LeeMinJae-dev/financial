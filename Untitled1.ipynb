{
 "cells": [
  {
   "cell_type": "code",
   "execution_count": 583,
   "id": "6a285e56",
   "metadata": {},
   "outputs": [],
   "source": [
    "def solution(nums):\n",
    "    a=[]\n",
    "    answer = 0\n",
    "    for i in range(0, len(nums)-2):\n",
    "        for j in range(i+1, len(nums)-1):\n",
    "            for k in range(j+1, len(nums)):\n",
    "                num = (nums[i]+nums[j]+nums[k])\n",
    "                for h in range(2,num):\n",
    "                    a.append(num%h)\n",
    "                if(a.count(0) ==0):\n",
    "                    answer+= 1\n",
    "                    a.clear()\n",
    "                else:\n",
    "                    a.clear()\n",
    "                    \n",
    "    \n",
    "        \n",
    "    return answer"
   ]
  },
  {
   "cell_type": "code",
   "execution_count": 584,
   "id": "e5151d9f",
   "metadata": {},
   "outputs": [],
   "source": [
    "nums = [1,2,7,6,4] \n",
    "\n"
   ]
  },
  {
   "cell_type": "code",
   "execution_count": 585,
   "id": "5d9734d0",
   "metadata": {},
   "outputs": [
    {
     "name": "stdout",
     "output_type": "stream",
     "text": [
      "10\n",
      "[0, 1, 2, 0, 4, 3, 2, 1]\n",
      "9\n",
      "[1, 0, 1, 4, 3, 2, 1]\n",
      "7\n",
      "[1, 1, 3, 2, 1]\n",
      "14\n",
      "[0, 2, 2, 4, 2, 0, 6, 5, 4, 3, 2, 1]\n",
      "12\n",
      "[0, 0, 0, 2, 0, 5, 4, 3, 2, 1]\n",
      "11\n",
      "[1, 2, 3, 1, 5, 4, 3, 2, 1]\n",
      "15\n",
      "[1, 0, 3, 0, 3, 1, 7, 6, 5, 4, 3, 2, 1]\n",
      "13\n",
      "[1, 1, 1, 3, 1, 6, 5, 4, 3, 2, 1]\n",
      "12\n",
      "[0, 0, 0, 2, 0, 5, 4, 3, 2, 1]\n",
      "17\n",
      "[1, 2, 1, 2, 5, 3, 1, 8, 7, 6, 5, 4, 3, 2, 1]\n"
     ]
    },
    {
     "data": {
      "text/plain": [
       "4"
      ]
     },
     "execution_count": 585,
     "metadata": {},
     "output_type": "execute_result"
    }
   ],
   "source": [
    "solution(nums)"
   ]
  },
  {
   "cell_type": "code",
   "execution_count": 541,
   "id": "085a8e5e",
   "metadata": {},
   "outputs": [],
   "source": [
    "a = [1,2,3,4]\n",
    "a.clear()"
   ]
  },
  {
   "cell_type": "code",
   "execution_count": 537,
   "id": "1bf60c4d",
   "metadata": {},
   "outputs": [
    {
     "data": {
      "text/plain": [
       "2"
      ]
     },
     "execution_count": 537,
     "metadata": {},
     "output_type": "execute_result"
    }
   ],
   "source": [
    "4//2"
   ]
  },
  {
   "cell_type": "code",
   "execution_count": null,
   "id": "7b243cd7",
   "metadata": {},
   "outputs": [],
   "source": []
  }
 ],
 "metadata": {
  "kernelspec": {
   "display_name": "Python 3",
   "language": "python",
   "name": "python3"
  },
  "language_info": {
   "codemirror_mode": {
    "name": "ipython",
    "version": 3
   },
   "file_extension": ".py",
   "mimetype": "text/x-python",
   "name": "python",
   "nbconvert_exporter": "python",
   "pygments_lexer": "ipython3",
   "version": "3.8.8"
  }
 },
 "nbformat": 4,
 "nbformat_minor": 5
}
