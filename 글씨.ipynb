{
 "cells": [
  {
   "cell_type": "code",
   "execution_count": 207,
   "id": "6d630264",
   "metadata": {},
   "outputs": [],
   "source": [
    "from sklearn.datasets import fetch_openml\n",
    "\n",
    "mnist = fetch_openml('mnist_784', version = 1, as_frame=False)"
   ]
  },
  {
   "cell_type": "code",
   "execution_count": 208,
   "id": "553b2fea",
   "metadata": {
    "scrolled": true
   },
   "outputs": [],
   "source": [
    "import matplotlib.pyplot as plt\n",
    "import pandas as pd\n",
    "from sklearn.linear_model import SGDClassifier"
   ]
  },
  {
   "cell_type": "code",
   "execution_count": 209,
   "id": "64a44b5e",
   "metadata": {},
   "outputs": [],
   "source": [
    "X, y = mnist['data'], mnist['target'].astype(int)"
   ]
  },
  {
   "cell_type": "code",
   "execution_count": 210,
   "id": "d8a6e116",
   "metadata": {},
   "outputs": [],
   "source": [
    "some_digit = X[0]"
   ]
  },
  {
   "cell_type": "code",
   "execution_count": 211,
   "id": "5560422e",
   "metadata": {},
   "outputs": [],
   "source": [
    "X_train, y_train, X_test, y_test = X[:60000],y[:60000],X[60000:],y[60000:]"
   ]
  },
  {
   "cell_type": "code",
   "execution_count": 212,
   "id": "d584d77e",
   "metadata": {},
   "outputs": [],
   "source": [
    "y_train_5 = (y_train == 5)"
   ]
  },
  {
   "cell_type": "code",
   "execution_count": 213,
   "id": "1a964d23",
   "metadata": {},
   "outputs": [],
   "source": [
    "from sklearn.linear_model import SGDClassifier"
   ]
  },
  {
   "cell_type": "code",
   "execution_count": 214,
   "id": "07b8d0df",
   "metadata": {},
   "outputs": [
    {
     "data": {
      "text/plain": [
       "SGDClassifier(random_state=44)"
      ]
     },
     "execution_count": 214,
     "metadata": {},
     "output_type": "execute_result"
    }
   ],
   "source": [
    "sgd = SGDClassifier(random_state=44)\n",
    "\n",
    "sgd.fit(X_train, y_train_5)"
   ]
  },
  {
   "cell_type": "code",
   "execution_count": 215,
   "id": "c0079de1",
   "metadata": {},
   "outputs": [
    {
     "data": {
      "text/plain": [
       "array([ True])"
      ]
     },
     "execution_count": 215,
     "metadata": {},
     "output_type": "execute_result"
    }
   ],
   "source": [
    "sgd.predict([some_digit])"
   ]
  },
  {
   "cell_type": "code",
   "execution_count": 216,
   "id": "84886dac",
   "metadata": {},
   "outputs": [
    {
     "data": {
      "text/plain": [
       "array([ True, False, False, ...,  True, False, False])"
      ]
     },
     "execution_count": 216,
     "metadata": {},
     "output_type": "execute_result"
    }
   ],
   "source": [
    "from sklearn.model_selection import cross_val_predict\n",
    "\n",
    "y_train_pred = cross_val_predict(sgd, X_train, y_train_5, cv = 3)\n",
    "\n",
    "y_train_pred"
   ]
  },
  {
   "cell_type": "code",
   "execution_count": 217,
   "id": "4ac13028",
   "metadata": {},
   "outputs": [
    {
     "data": {
      "text/plain": [
       "array([[53570,  1009],\n",
       "       [ 1301,  4120]])"
      ]
     },
     "execution_count": 217,
     "metadata": {},
     "output_type": "execute_result"
    }
   ],
   "source": [
    "from sklearn.metrics import confusion_matrix\n",
    "\n",
    "confusion_matrix(y_train_5, y_train_pred)"
   ]
  },
  {
   "cell_type": "code",
   "execution_count": 218,
   "id": "11707d8a",
   "metadata": {},
   "outputs": [
    {
     "data": {
      "text/plain": [
       "0.8032754922986937"
      ]
     },
     "execution_count": 218,
     "metadata": {},
     "output_type": "execute_result"
    }
   ],
   "source": [
    "from sklearn.metrics import precision_score, recall_score\n",
    "\n",
    "precision_score(y_train_5, y_train_pred)"
   ]
  },
  {
   "cell_type": "code",
   "execution_count": 219,
   "id": "77d04f72",
   "metadata": {},
   "outputs": [
    {
     "data": {
      "text/plain": [
       "0.7600073787124146"
      ]
     },
     "execution_count": 219,
     "metadata": {},
     "output_type": "execute_result"
    }
   ],
   "source": [
    "recall_score(y_train_5, y_train_pred)"
   ]
  },
  {
   "cell_type": "code",
   "execution_count": 220,
   "id": "d4c8fc9e",
   "metadata": {},
   "outputs": [
    {
     "data": {
      "text/plain": [
       "0.7810426540284361"
      ]
     },
     "execution_count": 220,
     "metadata": {},
     "output_type": "execute_result"
    }
   ],
   "source": [
    "from sklearn.metrics import f1_score\n",
    "\n",
    "f1_score(y_train_5, y_train_pred)"
   ]
  },
  {
   "cell_type": "code",
   "execution_count": 240,
   "id": "c3ac5e2e",
   "metadata": {},
   "outputs": [],
   "source": [
    "y_scores = sgd.decision_function([some_digit])"
   ]
  },
  {
   "cell_type": "code",
   "execution_count": 265,
   "id": "a42f6d08",
   "metadata": {},
   "outputs": [
    {
     "data": {
      "text/plain": [
       "array([  5892.54679572,  -8334.74490525, -20989.58263702, ...,\n",
       "         6689.09024468, -12771.5225336 , -17248.29026087])"
      ]
     },
     "execution_count": 265,
     "metadata": {},
     "output_type": "execute_result"
    }
   ],
   "source": [
    "y_scores"
   ]
  },
  {
   "cell_type": "code",
   "execution_count": 241,
   "id": "ad106450",
   "metadata": {
    "scrolled": true
   },
   "outputs": [
    {
     "data": {
      "text/plain": [
       "array([ True])"
      ]
     },
     "execution_count": 241,
     "metadata": {},
     "output_type": "execute_result"
    }
   ],
   "source": [
    "sgd.predict([some_digit])"
   ]
  },
  {
   "cell_type": "code",
   "execution_count": 264,
   "id": "6e4e1cf8",
   "metadata": {},
   "outputs": [],
   "source": [
    "y_scores = cross_val_predict(sgd,X_train, y_train_5, cv = 3, method = 'decision_function')"
   ]
  },
  {
   "cell_type": "code",
   "execution_count": 243,
   "id": "5d2cc3d8",
   "metadata": {},
   "outputs": [],
   "source": [
    "from sklearn.metrics import precision_recall_curve\n",
    "\n",
    "precision, recall, threshold = precision_recall_curve(y_train_5, y_scores)"
   ]
  },
  {
   "cell_type": "code",
   "execution_count": 294,
   "id": "4994ddd9",
   "metadata": {},
   "outputs": [
    {
     "data": {
      "text/plain": [
       "[<matplotlib.lines.Line2D at 0x16478e9d0>]"
      ]
     },
     "execution_count": 294,
     "metadata": {},
     "output_type": "execute_result"
    },
    {
     "data": {
      "image/png": "[encoded data removed]",
      "text/plain": [
       "<Figure size 432x288 with 1 Axes>"
      ]
     },
     "metadata": {
      "needs_background": "light"
     },
     "output_type": "display_data"
    }
   ],
   "source": [
    "plt.plot(threshold, recall[:-1],'r')\n",
    "plt.plot(threshold,precision[:-1],'b')"
   ]
  },
  {
   "cell_type": "code",
   "execution_count": 248,
   "id": "b99c7ff0",
   "metadata": {},
   "outputs": [
    {
     "data": {
      "text/plain": [
       "array([0.09095943, 0.09094418, 0.0909457 , ..., 1.        , 1.        ,\n",
       "       1.        ])"
      ]
     },
     "execution_count": 248,
     "metadata": {},
     "output_type": "execute_result"
    },
    {
     "data": {
      "image/png": "[encoded data removed]",
      "text/plain": [
       "<Figure size 432x288 with 1 Axes>"
      ]
     },
     "metadata": {
      "needs_background": "light"
     },
     "output_type": "display_data"
    }
   ],
   "source": [
    "plt.plot(recall, precision)\n",
    "precision"
   ]
  },
  {
   "cell_type": "code",
   "execution_count": 252,
   "id": "f268f92e",
   "metadata": {},
   "outputs": [
    {
     "data": {
      "text/plain": [
       "0.6294041689725143"
      ]
     },
     "execution_count": 252,
     "metadata": {},
     "output_type": "execute_result"
    }
   ],
   "source": [
    "from sklearn.metrics import roc_curve\n",
    "import numpy as np\n",
    "threshold_90 = threshold[np.argmax(precision >= 0.90)]\n",
    "\n",
    "y_pred_90 = (y_scores >= threshold_90)\n",
    "\n",
    "recall_score(y_train_5, y_pred_90)"
   ]
  },
  {
   "cell_type": "code",
   "execution_count": 300,
   "id": "6525d83a",
   "metadata": {},
   "outputs": [
    {
     "data": {
      "text/plain": [
       "[<matplotlib.lines.Line2D at 0x1648ff5e0>]"
      ]
     },
     "execution_count": 300,
     "metadata": {},
     "output_type": "execute_result"
    },
    {
     "data": {
      "image/png": "[encoded data removed]",
      "text/plain": [
       "<Figure size 432x288 with 1 Axes>"
      ]
     },
     "metadata": {
      "needs_background": "light"
     },
     "output_type": "display_data"
    }
   ],
   "source": [
    "from sklearn.linear_model import SGDClassifier\n",
    "\n",
    "fpr, tpr, threshold = roc_curve(y_train_5, y_scores)\n",
    "plt.plot(fpr,tpr)"
   ]
  },
  {
   "cell_type": "code",
   "execution_count": 254,
   "id": "bd6f9994",
   "metadata": {},
   "outputs": [
    {
     "data": {
      "text/plain": [
       "RandomForestClassifier()"
      ]
     },
     "execution_count": 254,
     "metadata": {},
     "output_type": "execute_result"
    }
   ],
   "source": [
    "from sklearn.ensemble import RandomForestClassifier\n",
    "\n",
    "rdforest = RandomForestClassifier()\n",
    "\n",
    "rdforest.fit(X_train, y_train_5)"
   ]
  },
  {
   "cell_type": "code",
   "execution_count": 275,
   "id": "d13d2dd6",
   "metadata": {},
   "outputs": [],
   "source": [
    "y_probas_forst = cross_val_predict(rdforest,X_train, y_train_5, cv = 3, method = 'predict_proba')"
   ]
  },
  {
   "cell_type": "code",
   "execution_count": 301,
   "id": "61796eb8",
   "metadata": {},
   "outputs": [],
   "source": [
    "from sklearn.metrics import precision_recall_curve\n",
    "y_scores_forest = y_probas_forst[:,1]\n",
    "fpr_f, tpr_f, threshold_f = roc_curve(y_train_5, y_scores_forest)"
   ]
  },
  {
   "cell_type": "code",
   "execution_count": 346,
   "id": "7349b22c",
   "metadata": {},
   "outputs": [
    {
     "data": {
      "text/plain": [
       "[<matplotlib.lines.Line2D at 0x165185b80>]"
      ]
     },
     "execution_count": 346,
     "metadata": {},
     "output_type": "execute_result"
    },
    {
     "data": {
      "image/png": "[encoded data removed]",
      "text/plain": [
       "<Figure size 432x288 with 1 Axes>"
      ]
     },
     "metadata": {
      "needs_background": "light"
     },
     "output_type": "display_data"
    }
   ],
   "source": [
    "plt.plot(fpr,tpr, 'b:')\n",
    "plt.plot(fpr_f, tpr_f, color = 'r', label = 'SGD')\n",
    "plt.plot([1,0],[1,0],'k--', label = \"random\")\n"
   ]
  },
  {
   "cell_type": "code",
   "execution_count": 348,
   "id": "d295b9a6",
   "metadata": {},
   "outputs": [
    {
     "data": {
      "text/plain": [
       "0.9984074437890377"
      ]
     },
     "execution_count": 348,
     "metadata": {},
     "output_type": "execute_result"
    }
   ],
   "source": [
    "from sklearn.metrics import roc_auc_score\n",
    "\n",
    "roc_auc_score(y_train_5, y_scores_forest)"
   ]
  },
  {
   "cell_type": "code",
   "execution_count": 347,
   "id": "c89c26e1",
   "metadata": {},
   "outputs": [
    {
     "data": {
      "text/plain": [
       "[<matplotlib.lines.Line2D at 0x1651e7ee0>]"
      ]
     },
     "execution_count": 347,
     "metadata": {},
     "output_type": "execute_result"
    },
    {
     "data": {
      "image/png": "[encoded data removed]",
      "text/plain": [
       "<Figure size 432x288 with 1 Axes>"
      ]
     },
     "metadata": {
      "needs_background": "light"
     },
     "output_type": "display_data"
    }
   ],
   "source": []
  },
  {
   "cell_type": "code",
   "execution_count": 284,
   "id": "8f3f02b4",
   "metadata": {},
   "outputs": [],
   "source": [
    "precision, recall, threshold = precision_recall_curve(y_train_5, y_scores)"
   ]
  },
  {
   "cell_type": "code",
   "execution_count": 290,
   "id": "6406561b",
   "metadata": {},
   "outputs": [
    {
     "data": {
      "text/plain": [
       "0.9589703559022139"
      ]
     },
     "execution_count": 290,
     "metadata": {},
     "output_type": "execute_result"
    }
   ],
   "source": [
    "from sklearn.metrics import roc_auc_score\n",
    "\n",
    "y_pred_90 = (y_scores >= threshold_90)\n",
    "\n",
    "roc_auc_score(y_train_5, y_scores)\n"
   ]
  },
  {
   "cell_type": "code",
   "execution_count": 288,
   "id": "266b0295",
   "metadata": {},
   "outputs": [
    {
     "data": {
      "text/plain": [
       "SVC()"
      ]
     },
     "execution_count": 288,
     "metadata": {},
     "output_type": "execute_result"
    }
   ],
   "source": [
    "from sklearn.svm import SVC\n",
    "\n",
    "svc = SVC()\n",
    "\n",
    "svc.fit(X_train, y_train)"
   ]
  },
  {
   "cell_type": "code",
   "execution_count": 356,
   "id": "46dbab16",
   "metadata": {},
   "outputs": [
    {
     "data": {
      "text/plain": [
       "SGDClassifier(random_state=44)"
      ]
     },
     "execution_count": 356,
     "metadata": {},
     "output_type": "execute_result"
    }
   ],
   "source": [
    "sgd.fit(X_train, y_train)"
   ]
  },
  {
   "cell_type": "code",
   "execution_count": 358,
   "id": "98db3df2",
   "metadata": {},
   "outputs": [
    {
     "data": {
      "text/plain": [
       "array([[-13681.24920981, -28389.42999311,  -9577.30296028,\n",
       "          1976.11619205, -35783.52617472,   2419.27374993,\n",
       "        -23922.00957152, -13108.23496675, -10340.0266054 ,\n",
       "        -13631.60886894]])"
      ]
     },
     "execution_count": 358,
     "metadata": {},
     "output_type": "execute_result"
    }
   ],
   "source": [
    "sgd.decision_function([some_digit])"
   ]
  },
  {
   "cell_type": "code",
   "execution_count": 377,
   "id": "70623d5d",
   "metadata": {},
   "outputs": [],
   "source": [
    "from sklearn.model_selection import cross_val_score\n",
    "\n",
    "y_train_pred = cross_val_predict(sgd, X_train, y_train,cv = 3)"
   ]
  },
  {
   "cell_type": "code",
   "execution_count": 370,
   "id": "1fd97d29",
   "metadata": {},
   "outputs": [],
   "source": [
    "from sklearn.preprocessing import StandardScaler\n",
    "\n",
    "scaler = StandardScaler()\n",
    "\n",
    "X_train_scaled = scaler.fit_transform(X_train.astype(np.float64))"
   ]
  },
  {
   "cell_type": "code",
   "execution_count": 413,
   "id": "46395830",
   "metadata": {
    "scrolled": true
   },
   "outputs": [],
   "source": [
    "conf_matrix = confusion_matrix(y_train, y_train_pred)"
   ]
  },
  {
   "cell_type": "code",
   "execution_count": 414,
   "id": "20889190",
   "metadata": {},
   "outputs": [
    {
     "data": {
      "text/plain": [
       "<matplotlib.image.AxesImage at 0x166780670>"
      ]
     },
     "execution_count": 414,
     "metadata": {},
     "output_type": "execute_result"
    },
    {
     "data": {
      "image/png": "[encoded data removed]",
      "text/plain": [
       "<Figure size 288x288 with 1 Axes>"
      ]
     },
     "metadata": {
      "needs_background": "light"
     },
     "output_type": "display_data"
    }
   ],
   "source": [
    "plt.matshow(conf_matrix, cmap = plt.cm.gray)"
   ]
  },
  {
   "cell_type": "code",
   "execution_count": 444,
   "id": "34bfe5c5",
   "metadata": {},
   "outputs": [],
   "source": [
    "sum_rows = conf_matrix.sum(axis = 0, keepdims = True)"
   ]
  },
  {
   "cell_type": "code",
   "execution_count": 449,
   "id": "19411322",
   "metadata": {},
   "outputs": [
    {
     "name": "stdout",
     "output_type": "stream",
     "text": [
      "[[5738    0   22   31   12   32   36    2   39   11]\n",
      " [   3 6532   51   52   15   24   12   11   28   14]\n",
      " [  80   82 4900  396   88   46   86   50  195   35]\n",
      " [  45   19  162 5549   23  126   30   28   68   81]\n",
      " [  39   24   16   60 5361   23   30    9   54  226]\n",
      " [ 128   24   41  464  118 4257  136   13  124  116]\n",
      " [  63   15   49   44   62  116 5519    1   38   11]\n",
      " [  39   29   69  110  125   15    4 5367   56  451]\n",
      " [  74  220  102  730  113  366   40   17 3872  317]\n",
      " [  54   27   19  235  309   33    0  117   35 5120]]\n",
      "[[9.16174357e-01 0.00000000e+00 4.05081937e-03 4.04119411e-03\n",
      "  1.92740122e-03 6.35172688e-03 6.10894281e-03 3.56188780e-04\n",
      "  8.64936793e-03 1.72359762e-03]\n",
      " [4.79003672e-04 9.36890419e-01 9.39053581e-03 6.77877721e-03\n",
      "  2.40925153e-03 4.76379516e-03 2.03631427e-03 1.95903829e-03\n",
      "  6.20980262e-03 2.19366970e-03]\n",
      " [1.27734313e-02 1.17613310e-02 9.02227951e-01 5.16229957e-02\n",
      "  1.41342756e-02 9.13060738e-03 1.45935856e-02 8.90471950e-03\n",
      "  4.32468397e-02 5.48417424e-03]\n",
      " [7.18505509e-03 2.72518646e-03 2.98287608e-02 7.23373745e-01\n",
      "  3.69418567e-03 2.50099246e-02 5.09078568e-03 4.98664292e-03\n",
      "  1.50809492e-02 1.26919461e-02]\n",
      " [6.22704774e-03 3.44234079e-03 2.94605045e-03 7.82166601e-03\n",
      "  8.61066495e-01 4.56530369e-03 5.09078568e-03 1.60284951e-03\n",
      "  1.19760479e-02 3.54120965e-02]\n",
      " [2.04374900e-02 3.44234079e-03 7.54925428e-03 6.04875505e-02\n",
      "  1.89527787e-02 8.44978166e-01 2.30782284e-02 2.31522707e-03\n",
      "  2.75005544e-02 1.81761203e-02]\n",
      " [1.00590771e-02 2.15146299e-03 9.02227951e-03 5.73588841e-03\n",
      "  9.95823964e-03 2.30250099e-02 9.36534872e-01 1.78094390e-04\n",
      "  8.42758927e-03 1.72359762e-03]\n",
      " [6.22704774e-03 4.15949512e-03 1.27048426e-02 1.43397210e-02\n",
      "  2.00770960e-02 2.97737197e-03 6.78771424e-04 9.55832591e-01\n",
      "  1.24196052e-02 7.06675024e-02]\n",
      " [1.18154239e-02 3.15547906e-02 1.87810716e-02 9.51636032e-02\n",
      "  1.81496948e-02 7.26478761e-02 6.78771424e-03 3.02760463e-03\n",
      "  8.58726990e-01 4.96709495e-02]\n",
      " [8.62206610e-03 3.87263339e-03 3.49843491e-03 3.06348586e-02\n",
      "  4.96305814e-02 6.55021834e-03 0.00000000e+00 2.08370436e-02\n",
      "  7.76225327e-03 8.02256346e-01]]\n"
     ]
    }
   ],
   "source": [
    "norm_conf_matrix = conf_matrix / sum_rows\n",
    "\n",
    "print(conf_matrix)\n",
    "print(norm_conf_matrix)"
   ]
  },
  {
   "cell_type": "code",
   "execution_count": 450,
   "id": "6079da6f",
   "metadata": {},
   "outputs": [
    {
     "data": {
      "text/plain": [
       "array([[6263, 6972, 5431, 7671, 6226, 5038, 5893, 5615, 4509, 6382]])"
      ]
     },
     "execution_count": 450,
     "metadata": {},
     "output_type": "execute_result"
    }
   ],
   "source": [
    "sum_rows"
   ]
  },
  {
   "cell_type": "code",
   "execution_count": 451,
   "id": "5bb8bf5c",
   "metadata": {},
   "outputs": [],
   "source": [
    "np.fill_diagonal(norm_conf_matrix, 0)"
   ]
  },
  {
   "cell_type": "code",
   "execution_count": 452,
   "id": "1a0b4723",
   "metadata": {},
   "outputs": [
    {
     "data": {
      "text/plain": [
       "<matplotlib.image.AxesImage at 0x164a5c310>"
      ]
     },
     "execution_count": 452,
     "metadata": {},
     "output_type": "execute_result"
    },
    {
     "data": {
      "image/png": "[encoded data removed]",
      "text/plain": [
       "<Figure size 288x288 with 1 Axes>"
      ]
     },
     "metadata": {
      "needs_background": "light"
     },
     "output_type": "display_data"
    }
   ],
   "source": [
    "plt.matshow(norm_conf_matrix, cmap = plt.cm.gray)"
   ]
  },
  {
   "cell_type": "code",
   "execution_count": 455,
   "id": "3c84f0be",
   "metadata": {},
   "outputs": [],
   "source": [
    "a = 3 \n",
    "b =8\n",
    "\n",
    "X_aa = X_train[(y_train == a)&(y_train_pred == a)]\n",
    "X_ab = X_train[(y_train == a)&(y_train_pred == b)]\n",
    "X_ba = X_train[(y_train == b)&(y_train_pred == a)]\n",
    "X_bb = X_train[(y_train == b)&(y_train_pred == b)]"
   ]
  },
  {
   "cell_type": "code",
   "execution_count": 492,
   "id": "2adb4077",
   "metadata": {},
   "outputs": [
    {
     "data": {
      "image/png": "[encoded data removed]",
      "text/plain": [
       "<Figure size 576x576 with 25 Axes>"
      ]
     },
     "metadata": {
      "needs_background": "light"
     },
     "output_type": "display_data"
    }
   ],
   "source": [
    "plt.figure(figsize= (8,8))\n",
    "\n",
    "for i in range(0,25):\n",
    "    plt.subplot(5,5,i+1)\n",
    "    plt.imshow(X_bb[i].reshape(28,28), cmap ='binary')"
   ]
  },
  {
   "cell_type": "code",
   "execution_count": 556,
   "id": "f22a55c4",
   "metadata": {},
   "outputs": [],
   "source": [
    "from sklearn.neighbors import KNeighborsClassifier\n",
    "\n",
    "y_train_large = (y_train>= 7)\n",
    "y_train_odd = (y_train %2 == 1)\n",
    "y_multilable = np.c_[y_train_large, y_train_odd]\n",
    "\n"
   ]
  },
  {
   "cell_type": "code",
   "execution_count": null,
   "id": "d73e5d2a",
   "metadata": {},
   "outputs": [],
   "source": []
  },
  {
   "cell_type": "code",
   "execution_count": null,
   "id": "7040233f",
   "metadata": {},
   "outputs": [],
   "source": []
  },
  {
   "cell_type": "code",
   "execution_count": 557,
   "id": "52f24c8a",
   "metadata": {},
   "outputs": [],
   "source": [
    "noise = np.random.randint(0,100, (len(X_train),784))\n",
    "\n",
    "X_train_mod = X_train + noise\n",
    "\n",
    "noise = np.random.randint(0,100, (len(X_test),784))\n",
    "\n",
    "X_test_mod = X_test + noise\n",
    "\n",
    "y_train_mod = X_train\n",
    "y_test_mod = X_test"
   ]
  },
  {
   "cell_type": "code",
   "execution_count": 558,
   "id": "8f464620",
   "metadata": {},
   "outputs": [
    {
     "data": {
      "text/plain": [
       "<matplotlib.image.AxesImage at 0x167514fa0>"
      ]
     },
     "execution_count": 558,
     "metadata": {},
     "output_type": "execute_result"
    },
    {
     "data": {
      "image/png": "[encoded data removed]",
      "text/plain": [
       "<Figure size 432x288 with 1 Axes>"
      ]
     },
     "metadata": {
      "needs_background": "light"
     },
     "output_type": "display_data"
    }
   ],
   "source": [
    "plt.imshow(X_train_mod[0].reshape(28,28), cmap = 'binary')"
   ]
  },
  {
   "cell_type": "code",
   "execution_count": 559,
   "id": "122f25ba",
   "metadata": {},
   "outputs": [
    {
     "data": {
      "text/plain": [
       "(60000, 784)"
      ]
     },
     "execution_count": 559,
     "metadata": {},
     "output_type": "execute_result"
    }
   ],
   "source": [
    "X_train_mod.shape"
   ]
  },
  {
   "cell_type": "code",
   "execution_count": 560,
   "id": "dbfc00e2",
   "metadata": {},
   "outputs": [
    {
     "data": {
      "text/plain": [
       "(60000, 784)"
      ]
     },
     "execution_count": 560,
     "metadata": {},
     "output_type": "execute_result"
    }
   ],
   "source": [
    "X_train.shape"
   ]
  },
  {
   "cell_type": "code",
   "execution_count": 561,
   "id": "e8f7bf18",
   "metadata": {},
   "outputs": [
    {
     "data": {
      "text/plain": [
       "KNeighborsClassifier()"
      ]
     },
     "execution_count": 561,
     "metadata": {},
     "output_type": "execute_result"
    }
   ],
   "source": [
    "knn.fit(X_train_mod, y_train_mod)"
   ]
  },
  {
   "cell_type": "code",
   "execution_count": 562,
   "id": "f7cf76c7",
   "metadata": {},
   "outputs": [
    {
     "data": {
      "text/plain": [
       "<matplotlib.image.AxesImage at 0x16913c700>"
      ]
     },
     "execution_count": 562,
     "metadata": {},
     "output_type": "execute_result"
    },
    {
     "data": {
      "image/png": "[encoded data removed]",
      "text/plain": [
       "<Figure size 432x288 with 1 Axes>"
      ]
     },
     "metadata": {
      "needs_background": "light"
     },
     "output_type": "display_data"
    }
   ],
   "source": [
    "plt.imshow(X_train_mod[0].reshape(28,28), cmap = 'binary')"
   ]
  },
  {
   "cell_type": "code",
   "execution_count": 567,
   "id": "2465e220",
   "metadata": {},
   "outputs": [
    {
     "data": {
      "text/plain": [
       "<matplotlib.image.AxesImage at 0x167623be0>"
      ]
     },
     "execution_count": 567,
     "metadata": {},
     "output_type": "execute_result"
    },
    {
     "data": {
      "image/png": "[encoded data removed]",
      "text/plain": [
       "<Figure size 432x288 with 1 Axes>"
      ]
     },
     "metadata": {
      "needs_background": "light"
     },
     "output_type": "display_data"
    }
   ],
   "source": [
    "plt.imshow(knn.predict([X_train_mod[0]]).reshape(28,28), 'binary')"
   ]
  },
  {
   "cell_type": "code",
   "execution_count": 553,
   "id": "34ee97c6",
   "metadata": {},
   "outputs": [
    {
     "data": {
      "text/plain": [
       "array([[0., 0., 0., ..., 0., 0., 0.],\n",
       "       [0., 0., 0., ..., 0., 0., 0.],\n",
       "       [0., 0., 0., ..., 0., 0., 0.],\n",
       "       ...,\n",
       "       [0., 0., 0., ..., 0., 0., 0.],\n",
       "       [0., 0., 0., ..., 0., 0., 0.],\n",
       "       [0., 0., 0., ..., 0., 0., 0.]])"
      ]
     },
     "execution_count": 553,
     "metadata": {},
     "output_type": "execute_result"
    }
   ],
   "source": [
    "X_train"
   ]
  },
  {
   "cell_type": "code",
   "execution_count": null,
   "id": "3eaa4395",
   "metadata": {},
   "outputs": [],
   "source": []
  }
 ],
 "metadata": {
  "kernelspec": {
   "display_name": "Python 3",
   "language": "python",
   "name": "python3"
  },
  "language_info": {
   "codemirror_mode": {
    "name": "ipython",
    "version": 3
   },
   "file_extension": ".py",
   "mimetype": "text/x-python",
   "name": "python",
   "nbconvert_exporter": "python",
   "pygments_lexer": "ipython3",
   "version": "3.8.8"
  }
 },
 "nbformat": 4,
 "nbformat_minor": 5
}
