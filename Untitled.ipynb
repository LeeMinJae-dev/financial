{
 "cells": [
  {
   "cell_type": "code",
   "execution_count": 152,
   "id": "6e94a30b",
   "metadata": {},
   "outputs": [],
   "source": [
    "import pandas as pd"
   ]
  },
  {
   "cell_type": "code",
   "execution_count": 153,
   "id": "ed3f3e66",
   "metadata": {},
   "outputs": [],
   "source": [
    "data = pd.read_csv('final_test.csv')"
   ]
  },
  {
   "cell_type": "code",
   "execution_count": 154,
   "id": "ac517879",
   "metadata": {},
   "outputs": [
    {
     "data": {
      "text/html": [
       "<div>\n",
       "<style scoped>\n",
       "    .dataframe tbody tr th:only-of-type {\n",
       "        vertical-align: middle;\n",
       "    }\n",
       "\n",
       "    .dataframe tbody tr th {\n",
       "        vertical-align: top;\n",
       "    }\n",
       "\n",
       "    .dataframe thead th {\n",
       "        text-align: right;\n",
       "    }\n",
       "</style>\n",
       "<table border=\"1\" class=\"dataframe\">\n",
       "  <thead>\n",
       "    <tr style=\"text-align: right;\">\n",
       "      <th></th>\n",
       "      <th>weight</th>\n",
       "      <th>age</th>\n",
       "      <th>height</th>\n",
       "      <th>size</th>\n",
       "    </tr>\n",
       "  </thead>\n",
       "  <tbody>\n",
       "    <tr>\n",
       "      <th>0</th>\n",
       "      <td>62</td>\n",
       "      <td>28.0</td>\n",
       "      <td>172.72</td>\n",
       "      <td>XL</td>\n",
       "    </tr>\n",
       "    <tr>\n",
       "      <th>1</th>\n",
       "      <td>59</td>\n",
       "      <td>36.0</td>\n",
       "      <td>167.64</td>\n",
       "      <td>L</td>\n",
       "    </tr>\n",
       "    <tr>\n",
       "      <th>2</th>\n",
       "      <td>61</td>\n",
       "      <td>34.0</td>\n",
       "      <td>165.10</td>\n",
       "      <td>M</td>\n",
       "    </tr>\n",
       "    <tr>\n",
       "      <th>3</th>\n",
       "      <td>65</td>\n",
       "      <td>27.0</td>\n",
       "      <td>175.26</td>\n",
       "      <td>L</td>\n",
       "    </tr>\n",
       "    <tr>\n",
       "      <th>4</th>\n",
       "      <td>62</td>\n",
       "      <td>45.0</td>\n",
       "      <td>172.72</td>\n",
       "      <td>M</td>\n",
       "    </tr>\n",
       "    <tr>\n",
       "      <th>...</th>\n",
       "      <td>...</td>\n",
       "      <td>...</td>\n",
       "      <td>...</td>\n",
       "      <td>...</td>\n",
       "    </tr>\n",
       "    <tr>\n",
       "      <th>119729</th>\n",
       "      <td>63</td>\n",
       "      <td>42.0</td>\n",
       "      <td>175.26</td>\n",
       "      <td>M</td>\n",
       "    </tr>\n",
       "    <tr>\n",
       "      <th>119730</th>\n",
       "      <td>45</td>\n",
       "      <td>29.0</td>\n",
       "      <td>154.94</td>\n",
       "      <td>S</td>\n",
       "    </tr>\n",
       "    <tr>\n",
       "      <th>119731</th>\n",
       "      <td>61</td>\n",
       "      <td>31.0</td>\n",
       "      <td>172.72</td>\n",
       "      <td>M</td>\n",
       "    </tr>\n",
       "    <tr>\n",
       "      <th>119732</th>\n",
       "      <td>74</td>\n",
       "      <td>31.0</td>\n",
       "      <td>167.64</td>\n",
       "      <td>XL</td>\n",
       "    </tr>\n",
       "    <tr>\n",
       "      <th>119733</th>\n",
       "      <td>70</td>\n",
       "      <td>30.0</td>\n",
       "      <td>167.64</td>\n",
       "      <td>XL</td>\n",
       "    </tr>\n",
       "  </tbody>\n",
       "</table>\n",
       "<p>119734 rows × 4 columns</p>\n",
       "</div>"
      ],
      "text/plain": [
       "        weight   age  height size\n",
       "0           62  28.0  172.72   XL\n",
       "1           59  36.0  167.64    L\n",
       "2           61  34.0  165.10    M\n",
       "3           65  27.0  175.26    L\n",
       "4           62  45.0  172.72    M\n",
       "...        ...   ...     ...  ...\n",
       "119729      63  42.0  175.26    M\n",
       "119730      45  29.0  154.94    S\n",
       "119731      61  31.0  172.72    M\n",
       "119732      74  31.0  167.64   XL\n",
       "119733      70  30.0  167.64   XL\n",
       "\n",
       "[119734 rows x 4 columns]"
      ]
     },
     "execution_count": 154,
     "metadata": {},
     "output_type": "execute_result"
    }
   ],
   "source": [
    "data"
   ]
  },
  {
   "cell_type": "code",
   "execution_count": 120,
   "id": "8eae2567",
   "metadata": {},
   "outputs": [],
   "source": [
    "data.dropna(inplace= True)"
   ]
  },
  {
   "cell_type": "code",
   "execution_count": 121,
   "id": "a1aeabb7",
   "metadata": {},
   "outputs": [],
   "source": [
    "data['size'].replace(['XXS','S','M','L','XL','XXL','XXXL'],[1,2,3,4,5,6,7],inplace= True)"
   ]
  },
  {
   "cell_type": "code",
   "execution_count": 122,
   "id": "c8f9924e",
   "metadata": {},
   "outputs": [],
   "source": [
    "data_labels = data['size']"
   ]
  },
  {
   "cell_type": "code",
   "execution_count": 123,
   "id": "f0c9d5c3",
   "metadata": {},
   "outputs": [],
   "source": [
    "data.drop('size', axis = 1, inplace=True)"
   ]
  },
  {
   "cell_type": "code",
   "execution_count": 124,
   "id": "cff0d3a3",
   "metadata": {},
   "outputs": [
    {
     "data": {
      "text/plain": [
       "0         5\n",
       "1         4\n",
       "2         3\n",
       "3         4\n",
       "4         3\n",
       "         ..\n",
       "119729    3\n",
       "119730    2\n",
       "119731    3\n",
       "119732    5\n",
       "119733    5\n",
       "Name: size, Length: 119153, dtype: int64"
      ]
     },
     "execution_count": 124,
     "metadata": {},
     "output_type": "execute_result"
    }
   ],
   "source": [
    "data_labels"
   ]
  },
  {
   "cell_type": "code",
   "execution_count": 125,
   "id": "ba7f3805",
   "metadata": {},
   "outputs": [],
   "source": [
    "from sklearn.linear_model import LinearRegression"
   ]
  },
  {
   "cell_type": "code",
   "execution_count": 126,
   "id": "e6df6657",
   "metadata": {},
   "outputs": [],
   "source": [
    "lin = LinearRegression()"
   ]
  },
  {
   "cell_type": "code",
   "execution_count": 127,
   "id": "ccf2ba16",
   "metadata": {},
   "outputs": [
    {
     "data": {
      "text/plain": [
       "array([[ 0.02453072, -0.74036768,  1.02599726],\n",
       "       [-0.27719409,  0.24143607,  0.27203845],\n",
       "       [-0.07604422, -0.00401487, -0.10494096],\n",
       "       ...,\n",
       "       [-0.07604422, -0.37219128,  1.02599726],\n",
       "       [ 1.23142996, -0.37219128,  0.27203845],\n",
       "       [ 0.82913022, -0.49491675,  0.27203845]])"
      ]
     },
     "execution_count": 127,
     "metadata": {},
     "output_type": "execute_result"
    }
   ],
   "source": [
    "from sklearn.preprocessing import StandardScaler\n",
    "scale = StandardScaler()\n",
    "\n",
    "scale.fit_transform(data)"
   ]
  },
  {
   "cell_type": "code",
   "execution_count": 128,
   "id": "1e174ae0",
   "metadata": {},
   "outputs": [],
   "source": [
    "from sklearn.model_selection import train_test_split"
   ]
  },
  {
   "cell_type": "code",
   "execution_count": 129,
   "id": "23857e03",
   "metadata": {},
   "outputs": [],
   "source": [
    "X_train, X_test, y_train, y_test = train_test_split(data, data_labels, test_size=0.2, random_state=21)"
   ]
  },
  {
   "cell_type": "code",
   "execution_count": 130,
   "id": "5dc4b08e",
   "metadata": {},
   "outputs": [
    {
     "data": {
      "text/plain": [
       "LinearRegression()"
      ]
     },
     "execution_count": 130,
     "metadata": {},
     "output_type": "execute_result"
    }
   ],
   "source": [
    "lin.fit(X_train, y_train)"
   ]
  },
  {
   "cell_type": "code",
   "execution_count": 131,
   "id": "6e5a3a78",
   "metadata": {},
   "outputs": [
    {
     "data": {
      "text/plain": [
       "0.6456785883355118"
      ]
     },
     "execution_count": 131,
     "metadata": {},
     "output_type": "execute_result"
    }
   ],
   "source": [
    "lin.score(X_train, y_train)"
   ]
  },
  {
   "cell_type": "code",
   "execution_count": 132,
   "id": "6d336546",
   "metadata": {},
   "outputs": [],
   "source": [
    "from sklearn.linear_model import ElasticNet"
   ]
  },
  {
   "cell_type": "code",
   "execution_count": 168,
   "id": "5dff3638",
   "metadata": {},
   "outputs": [],
   "source": [
    "ridge = ElasticNet(l1_ratio=0.5, alpha = 0.1)"
   ]
  },
  {
   "cell_type": "code",
   "execution_count": 169,
   "id": "76a0e2eb",
   "metadata": {},
   "outputs": [
    {
     "data": {
      "text/plain": [
       "ElasticNet(alpha=0.1)"
      ]
     },
     "execution_count": 169,
     "metadata": {},
     "output_type": "execute_result"
    }
   ],
   "source": [
    "ridge.fit(X_train, y_train)"
   ]
  },
  {
   "cell_type": "code",
   "execution_count": 170,
   "id": "8dad847a",
   "metadata": {},
   "outputs": [
    {
     "data": {
      "text/plain": [
       "0.645627379586333"
      ]
     },
     "execution_count": 170,
     "metadata": {},
     "output_type": "execute_result"
    }
   ],
   "source": [
    "ridge.score(X_train, y_train)"
   ]
  },
  {
   "cell_type": "code",
   "execution_count": 136,
   "id": "0765bb0a",
   "metadata": {},
   "outputs": [],
   "source": [
    "from sklearn.ensemble import RandomForestClassifier"
   ]
  },
  {
   "cell_type": "code",
   "execution_count": 149,
   "id": "7e2ed1d2",
   "metadata": {},
   "outputs": [],
   "source": [
    "rand = RandomForestClassifier(n_jobs = -1 )"
   ]
  },
  {
   "cell_type": "code",
   "execution_count": 150,
   "id": "5bac4ba5",
   "metadata": {},
   "outputs": [
    {
     "data": {
      "text/plain": [
       "RandomForestClassifier(n_jobs=-1)"
      ]
     },
     "execution_count": 150,
     "metadata": {},
     "output_type": "execute_result"
    }
   ],
   "source": [
    "rand.fit(X_train, y_train)"
   ]
  },
  {
   "cell_type": "code",
   "execution_count": 151,
   "id": "3f4c525d",
   "metadata": {},
   "outputs": [
    {
     "data": {
      "text/plain": [
       "0.5905981830007763"
      ]
     },
     "execution_count": 151,
     "metadata": {},
     "output_type": "execute_result"
    }
   ],
   "source": [
    "rand.score(X_train, y_train)"
   ]
  },
  {
   "cell_type": "code",
   "execution_count": 140,
   "id": "67adb9dd",
   "metadata": {},
   "outputs": [],
   "source": [
    "from sklearn.svm import SVC"
   ]
  },
  {
   "cell_type": "code",
   "execution_count": 155,
   "id": "ab170730",
   "metadata": {},
   "outputs": [],
   "source": [
    "from sklearn.linear_model import Lasso\n",
    "lasso = Lasso()"
   ]
  },
  {
   "cell_type": "code",
   "execution_count": 156,
   "id": "4e7a216f",
   "metadata": {},
   "outputs": [
    {
     "data": {
      "text/plain": [
       "Lasso()"
      ]
     },
     "execution_count": 156,
     "metadata": {},
     "output_type": "execute_result"
    }
   ],
   "source": [
    "lasso.fit(X_train, y_train)"
   ]
  },
  {
   "cell_type": "code",
   "execution_count": 157,
   "id": "14851ff9",
   "metadata": {},
   "outputs": [
    {
     "data": {
      "text/plain": [
       "0.6368439324649643"
      ]
     },
     "execution_count": 157,
     "metadata": {},
     "output_type": "execute_result"
    }
   ],
   "source": [
    "lasso.score(X_train, y_train)"
   ]
  },
  {
   "cell_type": "code",
   "execution_count": 176,
   "id": "064690fb",
   "metadata": {},
   "outputs": [
    {
     "name": "stderr",
     "output_type": "stream",
     "text": [
      "/Users/iminjae/miniforge3/envs/tensor/lib/python3.8/site-packages/sklearn/linear_model/_logistic.py:763: ConvergenceWarning: lbfgs failed to converge (status=1):\n",
      "STOP: TOTAL NO. of ITERATIONS REACHED LIMIT.\n",
      "\n",
      "Increase the number of iterations (max_iter) or scale the data as shown in:\n",
      "    https://scikit-learn.org/stable/modules/preprocessing.html\n",
      "Please also refer to the documentation for alternative solver options:\n",
      "    https://scikit-learn.org/stable/modules/linear_model.html#logistic-regression\n",
      "  n_iter_i = _check_optimize_result(\n"
     ]
    },
    {
     "data": {
      "text/plain": [
       "LogisticRegression(max_iter=1500)"
      ]
     },
     "execution_count": 176,
     "metadata": {},
     "output_type": "execute_result"
    }
   ],
   "source": [
    "from sklearn.linear_model import LogisticRegression\n",
    "log = LogisticRegression(solver='lbfgs',max_iter=1500)\n",
    "log.fit(X_train, y_train)"
   ]
  },
  {
   "cell_type": "code",
   "execution_count": null,
   "id": "fb4dade9",
   "metadata": {},
   "outputs": [],
   "source": []
  }
 ],
 "metadata": {
  "kernelspec": {
   "display_name": "Python 3",
   "language": "python",
   "name": "python3"
  },
  "language_info": {
   "codemirror_mode": {
    "name": "ipython",
    "version": 3
   },
   "file_extension": ".py",
   "mimetype": "text/x-python",
   "name": "python",
   "nbconvert_exporter": "python",
   "pygments_lexer": "ipython3",
   "version": "3.8.8"
  }
 },
 "nbformat": 4,
 "nbformat_minor": 5
}
